{
 "cells": [
  {
   "cell_type": "code",
   "execution_count": 1,
   "id": "bound-protocol",
   "metadata": {},
   "outputs": [],
   "source": [
    "# Desafio Murano Investimentos\n",
    "\n",
    "# André Luiz Rosário de Azevedo"
   ]
  },
  {
   "cell_type": "code",
   "execution_count": 2,
   "id": "stone-employment",
   "metadata": {},
   "outputs": [],
   "source": [
    "## importando bibliotecas necessárias"
   ]
  },
  {
   "cell_type": "code",
   "execution_count": 7,
   "id": "suspected-pencil",
   "metadata": {},
   "outputs": [
    {
     "data": {
      "text/plain": [
       "'a = 150, b = 9'"
      ]
     },
     "execution_count": 7,
     "metadata": {},
     "output_type": "execute_result"
    }
   ],
   "source": [
    "## Questão 1\n",
    "\n",
    "\n",
    "def change_variables(a, b):\n",
    "    a = a + b\n",
    "    b = a - b\n",
    "    a = a - b\n",
    "    return (f'a = {a}, b = {b}')\n",
    "\n",
    "change_variables(9,150)\n",
    "\n",
    "#perguntar se o tipo das variaveis é sempre int, ou se muda."
   ]
  },
  {
   "cell_type": "code",
   "execution_count": null,
   "id": "ideal-talent",
   "metadata": {},
   "outputs": [],
   "source": []
  }
 ],
 "metadata": {
  "kernelspec": {
   "display_name": "Python 3",
   "language": "python",
   "name": "python3"
  },
  "language_info": {
   "codemirror_mode": {
    "name": "ipython",
    "version": 3
   },
   "file_extension": ".py",
   "mimetype": "text/x-python",
   "name": "python",
   "nbconvert_exporter": "python",
   "pygments_lexer": "ipython3",
   "version": "3.6.5"
  }
 },
 "nbformat": 4,
 "nbformat_minor": 5
}
